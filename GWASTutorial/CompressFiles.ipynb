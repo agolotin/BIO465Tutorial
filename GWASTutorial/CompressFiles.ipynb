{
 "cells": [
  {
   "cell_type": "markdown",
   "metadata": {},
   "source": [
    "# Compressing Files"
   ]
  },
  {
   "cell_type": "markdown",
   "metadata": {},
   "source": [
    "### Binary Ped Format"
   ]
  },
  {
   "cell_type": "markdown",
   "metadata": {},
   "source": [
    "Once you have your data in PED format, you may want to convert it to binary PED format. This is because storing the data in binary PED format takes up less space and allows your analysis to run more quickly. To convert a PED file to a binary PED file, use the command below. \n",
    "The **--file plink_data/hapmap1** indicates the name of the folder where your files are stored (plink\\_data/ directory) as well as the name that we used for our _.ped_ and _.map_ files (aka hapmap1.ped and hapmap1.map). The **--out plink_data/hapmap1** indicates the name that you want the binary PED file to have. Create a new cell and run the following code:\n",
    "```\n",
    "%%bash\n",
    "plink --file plink_data/hapmap1 --make-bed --out plink_data/hapmap1\n",
    "```"
   ]
  },
  {
   "cell_type": "markdown",
   "metadata": {},
   "source": [
    "[Next Page](AnalysisMethods.ipynb)"
   ]
  },
  {
   "cell_type": "markdown",
   "metadata": {},
   "source": [
    "[Previous Page](FileFormatting.ipynb)"
   ]
  },
  {
   "cell_type": "markdown",
   "metadata": {},
   "source": [
    "[Welcome Page](Welcome.ipynb)"
   ]
  }
 ],
 "metadata": {
  "kernelspec": {
   "display_name": "Python 3",
   "language": "python",
   "name": "python3"
  },
  "language_info": {
   "codemirror_mode": {
    "name": "ipython",
    "version": 3
   },
   "file_extension": ".py",
   "mimetype": "text/x-python",
   "name": "python",
   "nbconvert_exporter": "python",
   "pygments_lexer": "ipython3",
   "version": "3.4.3"
  }
 },
 "nbformat": 4,
 "nbformat_minor": 0
}
