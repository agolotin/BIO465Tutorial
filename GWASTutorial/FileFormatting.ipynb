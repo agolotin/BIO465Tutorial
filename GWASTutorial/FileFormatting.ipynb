{
 "cells": [
  {
   "cell_type": "markdown",
   "metadata": {},
   "source": [
    "# File Formatting"
   ]
  },
  {
   "cell_type": "markdown",
   "metadata": {},
   "source": [
    "Getting data into PED and MAP formats can be somewhat tricky since the data found in databases such as dbGaP and CGHub are not in any universally standardized format. When using data from these databases, you may come across any number of different file formats, including the following: \n",
    "    1. VCF format\n",
    "    2. Microarray data\n",
    "    3. A format made up by the researcher"
   ]
  },
  {
   "cell_type": "markdown",
   "metadata": {},
   "source": [
    "The files that we are going to be using for this tutorial are already in PED and MAP formats, so you will not need to worry about converting the tutorial files. However, in future studies, you may need to use some of the techniques described below. "
   ]
  },
  {
   "cell_type": "markdown",
   "metadata": {},
   "source": [
    "### VCF Format\n"
   ]
  },
  {
   "cell_type": "markdown",
   "metadata": {},
   "source": [
    "Variant Call Format is used to store gene sequence variation, frequently from next-generation or Sanger sequencing. These files can be easily modified to files in PED and MAP formats using the vcftools package (available at https://github.com/vcftools/vcftools) with the following command: \n",
    "```\n",
    "vcftools --vcf <font color='blue'>input_file.vcf</font> --plink --out output_file\n",
    "```\n",
    "To use this command, you would simply need to change 'input_file.vcf' to your chosen input file name and cnahge 'output_file' to your chosen output file name. The resulting output files will have the name specified with the --out flag and the file extensions .ped and .map, ready for input to PLINK. "
   ]
  },
  {
   "cell_type": "markdown",
   "metadata": {},
   "source": [
    "### Microarray Format\n"
   ]
  },
  {
   "cell_type": "markdown",
   "metadata": {},
   "source": [
    "Like other sequencing methods, DNA microarrays are used to genotype DNA and give their results as data files. There are many different types of microarrays, resulting in many different formatting conventions. These can be converted for use in PLINK, but as there are so many different varieties, doing so is beyond the scope of this tutorial.\n"
   ]
  },
  {
   "cell_type": "markdown",
   "metadata": {},
   "source": [
    "### Custom Format\n"
   ]
  },
  {
   "cell_type": "markdown",
   "metadata": {},
   "source": [
    "Many researchers choose to store their data in a format of their own choice. This can make it difficult to understand what the rows and columns within the data represent. It can also make it difficult to convert to a PED or MAP format. This is just one reason that it is so important to store data in a format that is easily recognizable and understandable for the rest of the scientific community. To convert this customized data into a PED or MAP format, it is often necessary to write a custom script. Unfortunately, writing such a script is beyond the scope of this tutorial. \n"
   ]
  },
  {
   "cell_type": "markdown",
   "metadata": {
    "collapsed": true
   },
   "source": [
    "[Next Page](CompressFiles.ipynb)"
   ]
  },
  {
   "cell_type": "markdown",
   "metadata": {},
   "source": [
    "[Previous Page](PLINKIntro.ipynb)"
   ]
  },
  {
   "cell_type": "markdown",
   "metadata": {},
   "source": [
    "[Welcome Page](Welcome.ipynb)"
   ]
  }
 ],
 "metadata": {
  "kernelspec": {
   "display_name": "Python 3",
   "language": "python",
   "name": "python3"
  },
  "language_info": {
   "codemirror_mode": {
    "name": "ipython",
    "version": 3
   },
   "file_extension": ".py",
   "mimetype": "text/x-python",
   "name": "python",
   "nbconvert_exporter": "python",
   "pygments_lexer": "ipython3",
   "version": "3.4.3"
  }
 },
 "nbformat": 4,
 "nbformat_minor": 0
}
