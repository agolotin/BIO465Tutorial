{
 "cells": [
  {
   "cell_type": "markdown",
   "metadata": {},
   "source": [
    "# Analysis Methods  \n"
   ]
  },
  {
   "cell_type": "markdown",
   "metadata": {},
   "source": [
    "There are a number of different types of association tests that can be performed. These include: \n",
    "    1.  Case/Control\n",
    "    2.  Fisher’s Exact\n",
    "    3.  Full Model\n",
    "    4.  Stratified Analysis\n",
    "    5.  Tests of Heterogeneity\n",
    "    6.  Hotelling’s T(2) Test\n",
    "    7.  Quantitative Trait\n",
    "    8.  Quantitative Trait Means\n",
    "    9.  Quantitative Trait GxE\n",
    "    10. Linear and Logistic Models\n",
    "    11. Set-Based Tests\n"
   ]
  },
  {
   "cell_type": "markdown",
   "metadata": {},
   "source": [
    "The exact type of test that you use will depend on the type of study that you are performing and the nature of the data that you are using. In this tutorial, we will only consider two of the more basic tests: the Case/Control test and the Quantitative Trait test. \n",
    "\n",
    "Although this list of tests is daunting, it is important to note that many of these tests only differ from the Case/Control test and the Quantitative Trait test by one or two additional commands. In other words, actually performing each of these tests is very straightforward - the real challenge is in understanding when to apply the different tests. More information about each of these tests can be found [here](http://pngu.mgh.harvard.edu/~purcell/plink/anal.shtml). \n"
   ]
  },
  {
   "cell_type": "markdown",
   "metadata": {},
   "source": [
    "[Next Page](CaseControl.ipynb)"
   ]
  },
  {
   "cell_type": "markdown",
   "metadata": {},
   "source": [
    "[Previous Page](CompressFiles.ipynb)"
   ]
  },
  {
   "cell_type": "markdown",
   "metadata": {},
   "source": [
    "[Welcome Page](Welcome.ipynb)"
   ]
  }
 ],
 "metadata": {
  "kernelspec": {
   "display_name": "Python 3",
   "language": "python",
   "name": "python3"
  },
  "language_info": {
   "codemirror_mode": {
    "name": "ipython",
    "version": 3
   },
   "file_extension": ".py",
   "mimetype": "text/x-python",
   "name": "python",
   "nbconvert_exporter": "python",
   "pygments_lexer": "ipython3",
   "version": "3.4.3"
  }
 },
 "nbformat": 4,
 "nbformat_minor": 0
}
