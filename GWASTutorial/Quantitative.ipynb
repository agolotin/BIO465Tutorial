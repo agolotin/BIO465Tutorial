{
 "cells": [
  {
   "cell_type": "markdown",
   "metadata": {},
   "source": [
    "# Quantitative Association Test\n"
   ]
  },
  {
   "cell_type": "markdown",
   "metadata": {},
   "source": [
    "As can be expected, a Quantitative Association Test is used for phenotypes that are quantitative in nature. Recall that quantitative phenotypes are those where a disease condition, or risk factors for a disease, can be measure on a spectrum of quantifiable measurements. \n",
    "\n",
    "You may be surprised to learn that the command used to perform a Quantitative Association Test is the exact same command that is used to perform a Case/Control Association Test: \n",
    "\n",
    "```\n",
    "plink --file mydata --assoc #don't actually run this one\n",
    "```"
   ]
  },
  {
   "cell_type": "markdown",
   "metadata": {},
   "source": [
    "Why should this work? Recall that in the [PED format](CaseControl.ipynb), column 6 contained information about the participant’s phenotype. If a participant has a 1 in column 6, it means that the individual does not have the disease. If they have a 2 in column 6, it means that they do have the disease. If there is a 0 in column 6, it means that the individual’s disease condition is unknown. However, if there is anything other than a 0, 1, or 2 in column 6, it means that the phenotype must be quantitative, rather than categorical. PLINK checks to see if there is something other than a 0, 1, or 2 in column 6 of the file. If there is, PLINK automatically runs a Quantitative Association Test on the data, rather than a Case/Control Association Test. \n"
   ]
  },
  {
   "cell_type": "markdown",
   "metadata": {},
   "source": [
    "#### Interpreting the Quantitative Analysis Results\n"
   ]
  },
  {
   "cell_type": "markdown",
   "metadata": {},
   "source": [
    "Although the command used to run the tests are the same, the output is different. Rather than generating an .assoc file, PLINK generates a .qassoc file. This file has the following fields:\n",
    "\n",
    "| Column # | Column Heading | Description |\n",
    "| :-----: | :--------: | :------- :|\n",
    "| 0 |  CHR  |          Chromosome number |\n",
    "| 1 |        SNP |            SNP ID number |\n",
    "| 2 |       BP |            Base-pair location of the SNP in question |\n",
    "| 3 |       NMISS |            Number of non-missing genotypes |\n",
    "| 4 |       BETA |           Regression coefficient |\n",
    "| 5 |       SE  |          Standard error |\n",
    "| 6 |       R2  |          Regression r-squared |\n",
    "| 7 |       T |        Wald test (based on t-distribtion)|\n",
    "| 8 |       P  |          Wald test asymptotic p-value |\n",
    " \n",
    "If permutations are requested, then another file will be produced with the file extension .assoc.perm or .assoc.mperm (depending on whether adaptive or max(T) permutation was used.\n"
   ]
  },
  {
   "cell_type": "markdown",
   "metadata": {
    "collapsed": true
   },
   "source": [
    "[Next Page](MultipleTesting.ipynb)"
   ]
  },
  {
   "cell_type": "markdown",
   "metadata": {},
   "source": [
    "[Previous Page](CaseControl.ipynb)"
   ]
  },
  {
   "cell_type": "markdown",
   "metadata": {},
   "source": [
    "[Welcome Page](Welcome.ipynb)"
   ]
  }
 ],
 "metadata": {
  "kernelspec": {
   "display_name": "Python 3",
   "language": "python",
   "name": "python3"
  },
  "language_info": {
   "codemirror_mode": {
    "name": "ipython",
    "version": 3
   },
   "file_extension": ".py",
   "mimetype": "text/x-python",
   "name": "python",
   "nbconvert_exporter": "python",
   "pygments_lexer": "ipython3",
   "version": "3.4.3"
  }
 },
 "nbformat": 4,
 "nbformat_minor": 0
}
