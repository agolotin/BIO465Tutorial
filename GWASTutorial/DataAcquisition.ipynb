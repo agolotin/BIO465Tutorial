{
 "cells": [
  {
   "cell_type": "markdown",
   "metadata": {},
   "source": [
    "# Acquiring Data"
   ]
  },
  {
   "cell_type": "markdown",
   "metadata": {},
   "source": [
    "Data for your GWAS can be acquired in one of two ways: \n",
    "    1. Using previously collected data from databases such as dbGaP or CGHub\n",
    "    2. Collecting your own data"
   ]
  },
  {
   "cell_type": "markdown",
   "metadata": {},
   "source": [
    "## Using Previously Collected Data"
   ]
  },
  {
   "cell_type": "markdown",
   "metadata": {},
   "source": [
    "There are many options for accessing previously collected data. Here we explain some details of two popular options, but be aware that there are others as well.\n"
   ]
  },
  {
   "cell_type": "markdown",
   "metadata": {},
   "source": [
    "#### dbGaP"
   ]
  },
  {
   "cell_type": "markdown",
   "metadata": {},
   "source": [
    "When scientists publish their findings in an academic journal, they are often required to submit the data that they used to a database. The Database of Genotypes and Phenotypes (dbGaP) is a commonly used repository of such data for public access. Since dbGaP contains information that could be used to identify individuals, you would have to apply to gain access to the database and show that you have good intentions with the data that you want to use. "
   ]
  },
  {
   "cell_type": "markdown",
   "metadata": {},
   "source": [
    "#### CGHub"
   ]
  },
  {
   "cell_type": "markdown",
   "metadata": {},
   "source": [
    "Another commonly used data repository is the Cancer Genomics Hub (CGHub). CGHub is a secure repository for storing, cataloging, and accessing cancer genome sequences, alignments, and mutation information from the Cancer Genome Atlas (TCGA) consortium and related projects. CGHub has developed a web application, the CGHub Data Browser, to provide users with the ability to easily interact with the data sets through a familiar web format, similar to an online store. With the data browser you can easily select and add filters, view results, and select items for downloading. Like dbGaP, you need to receive authorization to have full access to the data.\n"
   ]
  },
  {
   "cell_type": "markdown",
   "metadata": {},
   "source": [
    "## Collecting Your Own Data\n"
   ]
  },
  {
   "cell_type": "markdown",
   "metadata": {},
   "source": [
    "You also have the option of collecting your own data for the GWAS that you are performing. This will give you more control over the characteristics of the study participants and the traits being measured. In order to achieve statistically significant results when performing a GWAS a large number of samples is generally required. Genotypic and phenotypic information must be acquired for each participant. This means that DNA samples must be taken from participants and then sequenced and phenotype information must be recorded. "
   ]
  },
  {
   "cell_type": "markdown",
   "metadata": {},
   "source": [
    "## Data for this Tutorial"
   ]
  },
  {
   "cell_type": "markdown",
   "metadata": {},
   "source": [
    "The data used for this tutorial comes from the tutorial published on Harvard University's PLINK website. This data originally came from the 89 individuals of Asian descent. This data was originally collected by the 1000 Genomes Project. Although the genotype information comes from real data, the phenotype information was simulated. \n",
    "\n",
    "What does this mean? Our test data will work well as a learning set for this tutorial and represents mostly real data, but since a large part of the dataset is also simulated data, it shouldn't be used to investigate real hypotheses."
   ]
  },
  {
   "cell_type": "markdown",
   "metadata": {
    "collapsed": true
   },
   "source": [
    "[Next Page](PLINKIntro.ipynb)"
   ]
  },
  {
   "cell_type": "markdown",
   "metadata": {},
   "source": [
    "[Previous Page](GWASDesign.ipynb)"
   ]
  },
  {
   "cell_type": "markdown",
   "metadata": {},
   "source": [
    "[Welcome Page](Welcome.ipynb)"
   ]
  }
 ],
 "metadata": {
  "kernelspec": {
   "display_name": "Python 3",
   "language": "python",
   "name": "python3"
  },
  "language_info": {
   "codemirror_mode": {
    "name": "ipython",
    "version": 3
   },
   "file_extension": ".py",
   "mimetype": "text/x-python",
   "name": "python",
   "nbconvert_exporter": "python",
   "pygments_lexer": "ipython3",
   "version": "3.4.3"
  }
 },
 "nbformat": 4,
 "nbformat_minor": 0
}
