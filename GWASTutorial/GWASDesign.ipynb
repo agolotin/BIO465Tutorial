{
 "cells": [
  {
   "cell_type": "markdown",
   "metadata": {},
   "source": [
    "# Designing a GWAS"
   ]
  },
  {
   "cell_type": "markdown",
   "metadata": {},
   "source": [
    "### Case-Control vs. Quantitative:"
   ]
  },
  {
   "cell_type": "markdown",
   "metadata": {},
   "source": [
    "When designing a GWAS, the first thing that needs to be considered is whether or not the phenotype that you are trying to study is classified as case-control or quantitative. "
   ]
  },
  {
   "cell_type": "markdown",
   "metadata": {},
   "source": [
    "#### Case-Control Phenotypes"
   ]
  },
  {
   "cell_type": "markdown",
   "metadata": {},
   "source": [
    "Case-control phenotypes are generally binary, in that an individual is classified as either having the disease phenotype, or not having the disease phenotype. So essentially, an individual that has the disease is the “case” and an individual that does not have the disease is the “control”. Be aware that case-control phenotypes are often also called categorical phenotypes. \n"
   ]
  },
  {
   "cell_type": "markdown",
   "metadata": {},
   "source": [
    "#### Quantitative Phenotypes"
   ]
  },
  {
   "cell_type": "markdown",
   "metadata": {},
   "source": [
    "A quantitative phenotype is one where there are well-established quantifiable traits associated with a disease. For example, when studying heart disease, the levels of low-density lipoprotein (LDL) and high-density lipoprotein (HDL) can be used to place an individual somewhere on a spectrum that ranges from having a healthy heart on one end to having heart disease on the other end. \n",
    "\n",
    "Quantitative phenotypes are preferred over case-control phenotypes because they give researchers more insight into how much of a role a certain SNP may play in contributing to a phenotype. "
   ]
  },
  {
   "cell_type": "markdown",
   "metadata": {},
   "source": [
    "#### Our Study Design"
   ]
  },
  {
   "cell_type": "markdown",
   "metadata": {},
   "source": [
    "For this tutorial, we are going to be looking at a case-control phenotype, however, we will also explain how to go about performing an analysis with a quantitative phenotype. You will notice that there is quite a bit of overlap between the two. "
   ]
  },
  {
   "cell_type": "markdown",
   "metadata": {},
   "source": [
    "[Next Page](DataAcquisition.ipynb)"
   ]
  },
  {
   "cell_type": "markdown",
   "metadata": {
    "collapsed": false
   },
   "source": [
    "[Previous Page](GWASOverview.ipynb)"
   ]
  },
  {
   "cell_type": "markdown",
   "metadata": {},
   "source": [
    "[Welcome Page](Welcome.ipynb)"
   ]
  }
 ],
 "metadata": {
  "kernelspec": {
   "display_name": "Python 3",
   "language": "python",
   "name": "python3"
  },
  "language_info": {
   "codemirror_mode": {
    "name": "ipython",
    "version": 3
   },
   "file_extension": ".py",
   "mimetype": "text/x-python",
   "name": "python",
   "nbconvert_exporter": "python",
   "pygments_lexer": "ipython3",
   "version": "3.4.3"
  }
 },
 "nbformat": 4,
 "nbformat_minor": 0
}
