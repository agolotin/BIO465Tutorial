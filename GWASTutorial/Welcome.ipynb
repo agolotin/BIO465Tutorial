{
 "cells": [
  {
   "cell_type": "markdown",
   "metadata": {},
   "source": [
    "# Welcome to GWAS Tutorial"
   ]
  },
  {
   "cell_type": "markdown",
   "metadata": {},
   "source": [
    "<img src=\"fgene-05-00214-g002.jpg\">"
   ]
  },
  {
   "cell_type": "markdown",
   "metadata": {
    "collapsed": false,
    "scrolled": true
   },
   "source": [
    "## Using this Jupyter Notebook\n",
    "\n",
    "\n"
   ]
  },
  {
   "cell_type": "markdown",
   "metadata": {},
   "source": [
    "Jupyter Notebooks allow a user to read instructions and run code as if working in a command line terminal, but with an easy-to-use interface. When a new user logs in, a new working environment is created for that user based on an existing notebook (the tutorial). All data is saved for the user personally, so if you change things in this tutorial, you won't affect the tutorial experience that another user has.\n",
    "\n",
    "Work through each page of the tutorial. Read the instructions to understand not only what to do, but also how to do it. Sometimes you will run code to execute the GWAS commands and we want you to be able to fully understand what's going on.\n",
    "\n",
    "To practice running code now, create a new cell by clicking the + button in the toolbar above. Make sure the type of the new cell is \"Code\" rather than \"Markdown\" or another option and then paste the following code into your new cell:\n",
    "\n",
    "```\n",
    "%%bash\n",
    "ls plink_data/\n",
    "```"
   ]
  },
  {
   "cell_type": "markdown",
   "metadata": {},
   "source": [
    "Run the code in your cell by clicking the \"Run Cell\" arrow above in the toolbar (to the left of the black square on the toolbar). You should now be able to see the files that exist in the plink_data directory, just as you would if you had used the `ls` command on a regular unix terminal. Notice that typing \"%%bash\" means the language used will be Bash, the console language for the server this tutorial runs on. \n",
    "\n",
    "This method will be used for the rest of the tutorial to run simple commands, so now you're ready to continue. Please note, that when the outline of the cell is green it will not look as pretty as in readers view (blue outline). Just click \"Run Cell\" if you want to have it rendered as a readable cell.\n",
    "\n",
    "Additionally, if you click the scissors icon on the toolbar, it will delete the selected cell and there is no possible way of retreiving it."
   ]
  },
  {
   "cell_type": "markdown",
   "metadata": {},
   "source": [
    "**PLEASE, make sure to log out at the end of this tutorial. Do not just close the page.**"
   ]
  },
  {
   "cell_type": "markdown",
   "metadata": {
    "collapsed": true
   },
   "source": [
    "# Table of Contents\n",
    "\n",
    "1. [GWAS Overview](GWASOverview.ipynb)\n",
    "2. [GWAS Design](GWASDesign.ipynb)\n",
    "3. [Aquiring Data](DataAcquisition.ipynb)\n",
    "4. [Introduction to PLINK](PLINKIntro.ipynb)\n",
    "5. [Plink File Formatting](FileFormatting.ipynb)\n",
    "6. [Compress Files](CompressFiles.ipynb)\n",
    "7. [Analysis Methods](AnalysisMethods.ipynb)\n",
    "8. [Simple Case Control Study](CaseControl.ipynb)\n",
    "9. [Quantitative Study](Quantitative.ipynb)\n",
    "10. [Multiple Testing Study](MultipleTesting.ipynb)"
   ]
  }
 ],
 "metadata": {
  "kernelspec": {
   "display_name": "Python 3",
   "language": "python",
   "name": "python3"
  },
  "language_info": {
   "codemirror_mode": {
    "name": "ipython",
    "version": 3
   },
   "file_extension": ".py",
   "mimetype": "text/x-python",
   "name": "python",
   "nbconvert_exporter": "python",
   "pygments_lexer": "ipython3",
   "version": "3.4.3"
  }
 },
 "nbformat": 4,
 "nbformat_minor": 0
}
