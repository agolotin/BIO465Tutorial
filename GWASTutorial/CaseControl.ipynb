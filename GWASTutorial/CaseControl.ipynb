{
 "cells": [
  {
   "cell_type": "markdown",
   "metadata": {},
   "source": [
    "# Case-Control Association Test\n"
   ]
  },
  {
   "cell_type": "markdown",
   "metadata": {},
   "source": [
    "As was explained earlier in the tutorial, phenotypes can be either case-control or quantitative. Recall that case-control phenotypes are those where an individual is classified as either having the disease or not having the disease. \n",
    "\n",
    "To perform a standard case/control association analysis, use the following command in a new cell. The **--bfile plink_data/hapmap1** indicates the directory where the files are stored and common names of the _.ped_ and _.map_ files for this tutorial. The **--out plink_data/hapmap1** indicates the name that you want the binary PED file to have.\n",
    "```\n",
    "%%bash\n",
    "plink --bfile plink_data/hapmap1 --assoc --out plink_data/hapmap1\n",
    "```"
   ]
  },
  {
   "cell_type": "markdown",
   "metadata": {},
   "source": [
    "The **--bfile** tag indicates that you are using a binary PED file (the one you just created on the [Compressing Files](CompressFiles.ipynb) page). The **--assoc** tag indicates that you want to perform an association test.\n",
    "\n",
    "It really is as simple as that. \n",
    "\n",
    "Since the data set that we are using in this tutorial is small, this association test runs very quickly. If you were using a real dataset, this test could potentially take quite a bit longer. \n"
   ]
  },
  {
   "cell_type": "markdown",
   "metadata": {},
   "source": [
    "### Interpreting Results of the Case/Control Association Test\n"
   ]
  },
  {
   "cell_type": "markdown",
   "metadata": {},
   "source": [
    "Now that you have performed the analysis itself, you need to understand how to interpret the results of the analysis. When you ran the above command, a new file was created in the **plink_data/** folder called _plink.assoc_. Use the following code to look at the file:\n",
    "```\n",
    "%%bash\n",
    "head plink_data/hapmap1.assoc\n",
    "```"
   ]
  },
  {
   "cell_type": "markdown",
   "metadata": {},
   "source": [
    "# Notice the column headings at the top of the file. \n",
    "This is what those column headings stand for: \n",
    "\n",
    "| Column # | Column Heading | Description |\n",
    "| :-----: | :--------: | :------- :|\n",
    "| 0 |  CHR  |          Chromosome number |\n",
    "| 1 |        SNP |            SNP ID number |\n",
    "| 2 |       BP |            Base-pair location of the SNP in question |\n",
    "| 3 |       A1 |            Name of the minor allele |\n",
    "| 4 |       F_A |           Frequency of the minor allele in individuals with the disease phenotype |\n",
    "| 5 |       F_U  |          Frequency of the minor allele in individuals without the disease phenotype (controls) |\n",
    "| 6 |       A2  |          Name of the major allele |\n",
    "| 7 |       CHISQ |        Chi-square test results |\n",
    "| 8 |       P  |          P-value |\n",
    "| 9 |        OR |           Estimated odds ratio for A1 (the minor allele) |\n",
    "\n",
    "Columns 7, 8, and 9 are of particular interest for understanding the results of the analysis. \n",
    "\n",
    "When we run the analysis, we are essentially asking if there is a significant difference between the frequency of the minor allele in individuals without the disease phenotype and the frequency of the minor allele in individuals with the disease phenotype. The p-value in column 8 tells us whether or not there is a significant difference between these frequencies for the particular SNP that is being looked at. \n",
    "\n",
    "Recall that the smaller the p-value, the more likely it is that the the statistical relationship found did not happen by chance. For this tutorial, we are going to use a p-value cutoff of 0.05 to indicate statistical significance. Notice that the p-values in column 8 are not in any order. Rather than going through each line to determine which SNPs have p-values that are smaller than 0.05, we are going to use a command to sort our file by p-values, from smallest to largest. We will use a command-line tool called sort, tell it to sort by column 8, and write out the result to a new file called hapmap1_sorted.assoc. Notice that this will also move the first line with column headers to the last line of the new file. We could avoid this with a more complex command, but doing so is not necessary. Just run the following in three different cells (you have to say *%%bash* at the beginning of each one):\n",
    "```\n",
    "%%bash\n",
    "sort --key=8 -nr plink_data/hapmap1.assoc > plink_data/hapmap1_sorted.assoc\n",
    "head -n 1 plink_data/hapmap1.assoc\n",
    "head plink_data/hapmap1_sorted.assoc\n",
    "```"
   ]
  },
  {
   "cell_type": "markdown",
   "metadata": {},
   "source": [
    "Notice that the p-values in column 8 are now ordered smallest-to-largest. We can now easily identify those most likely to be correllated with the condition we're studying.\n",
    "\n",
    "Also notice that we've cheated a bit, calling head on the first line of the old file and then the next twenty of the next so we can still see the column headers. This isn't an essential part, but it makes reading the output file easier."
   ]
  },
  {
   "cell_type": "markdown",
   "metadata": {
    "collapsed": true
   },
   "source": [
    "[Next Page](Quantitative.ipynb)"
   ]
  },
  {
   "cell_type": "markdown",
   "metadata": {},
   "source": [
    "[Previous Page](AnalysisMethods.ipynb)"
   ]
  },
  {
   "cell_type": "markdown",
   "metadata": {},
   "source": [
    "[Welcome Page](Welcome.ipynb)"
   ]
  }
 ],
 "metadata": {
  "kernelspec": {
   "display_name": "Python 3",
   "language": "python",
   "name": "python3"
  },
  "language_info": {
   "codemirror_mode": {
    "name": "ipython",
    "version": 3
   },
   "file_extension": ".py",
   "mimetype": "text/x-python",
   "name": "python",
   "nbconvert_exporter": "python",
   "pygments_lexer": "ipython3",
   "version": "3.4.3"
  }
 },
 "nbformat": 4,
 "nbformat_minor": 0
}
