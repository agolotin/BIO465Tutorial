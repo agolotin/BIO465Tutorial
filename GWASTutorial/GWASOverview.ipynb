{
 "cells": [
  {
   "cell_type": "markdown",
   "metadata": {},
   "source": [
    "# GWAS Overview"
   ]
  },
  {
   "cell_type": "markdown",
   "metadata": {},
   "source": [
    "### What is a GWAS?\n"
   ]
  },
  {
   "cell_type": "markdown",
   "metadata": {},
   "source": [
    "GWAS stands for _Genome Wide Association Study._ According to the NIH, a GWAS is a “study of common genetic variation across the entire human genome designed to identify genetic associations with observable traits.” "
   ]
  },
  {
   "cell_type": "markdown",
   "metadata": {},
   "source": [
    "### What can GWAS be used for?\n"
   ]
  },
  {
   "cell_type": "markdown",
   "metadata": {},
   "source": [
    "GWAS can be used for a number of different purposes. Three of the most common purposes are listed below: \n",
    "    1. Identifying SNPs that are associated with specific diseases \n",
    "    2. Identifying SNPs that are associated with common quantitative traits such as height \n",
    "    3. Identifying SNPs that are associated with reactions to certain drugs, whether positive or negative "
   ]
  },
  {
   "cell_type": "markdown",
   "metadata": {},
   "source": [
    "### Steps to Perform a GWAS\n"
   ]
  },
  {
   "cell_type": "markdown",
   "metadata": {},
   "source": [
    "    1. Design the study\n",
    "    2. Acquire Data\n",
    "    3. Format the data\n",
    "    4. Perform analysis\n",
    "    5. Interpret the results\n",
    "    6. Perform replication of the study\n"
   ]
  },
  {
   "cell_type": "markdown",
   "metadata": {},
   "source": [
    "We will spend the rest of the tutorial going through each of these steps."
   ]
  },
  {
   "cell_type": "markdown",
   "metadata": {
    "collapsed": true
   },
   "source": [
    "[Next Page](GWASDesign.ipynb)"
   ]
  },
  {
   "cell_type": "markdown",
   "metadata": {},
   "source": [
    "[Welcome Page](Welcome.ipynb)"
   ]
  }
 ],
 "metadata": {
  "kernelspec": {
   "display_name": "Python 3",
   "language": "python",
   "name": "python3"
  },
  "language_info": {
   "codemirror_mode": {
    "name": "ipython",
    "version": 3
   },
   "file_extension": ".py",
   "mimetype": "text/x-python",
   "name": "python",
   "nbconvert_exporter": "python",
   "pygments_lexer": "ipython3",
   "version": "3.4.3"
  }
 },
 "nbformat": 4,
 "nbformat_minor": 0
}
