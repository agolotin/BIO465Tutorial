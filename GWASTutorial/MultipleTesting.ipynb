{
 "cells": [
  {
   "cell_type": "markdown",
   "metadata": {},
   "source": [
    "# Multiple Testing\n"
   ]
  },
  {
   "cell_type": "markdown",
   "metadata": {},
   "source": [
    "A word of caution: Running multiple tests on the same data can result in false significance. This is because as more tests are run on the data, the probability of producing a significant result by accident increases. To account for this, you can use the **--adjust** tag when performing your analysis. To do so, you simply change the command that we previously used from: \n",
    "```\n",
    "plink --bfile plink_data/hapmap1 --assoc --out hapmap1\n",
    "```\n",
    "To:\n",
    "```\n",
    "plink --bfile plink_data/hapmap1 --assoc --adjust --out hapmap1\n",
    "```\n",
    "\n",
    "The **--adjust** tag will adjust for the multiple testing and create a file called ‘hapmap1.adjust’. \n",
    "\n",
    "The _hapmap1.adjust_ file contains adjusted p-values as well as False Discovery Rate (FDR) information. This file is sorted based on significance, so the entries with the highest significance are listed first and the entries with the lowest significance are listed last. "
   ]
  },
  {
   "cell_type": "markdown",
   "metadata": {},
   "source": [
    "[Previous Page](Quantitative.ipynb)"
   ]
  },
  {
   "cell_type": "markdown",
   "metadata": {
    "collapsed": true
   },
   "source": [
    "[Welcome Page](Welcome.ipynb)"
   ]
  }
 ],
 "metadata": {
  "kernelspec": {
   "display_name": "Python 3",
   "language": "python",
   "name": "python3"
  },
  "language_info": {
   "codemirror_mode": {
    "name": "ipython",
    "version": 3
   },
   "file_extension": ".py",
   "mimetype": "text/x-python",
   "name": "python",
   "nbconvert_exporter": "python",
   "pygments_lexer": "ipython3",
   "version": "3.4.3"
  }
 },
 "nbformat": 4,
 "nbformat_minor": 0
}
