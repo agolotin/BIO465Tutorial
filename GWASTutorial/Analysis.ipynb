{
 "cells": [
  {
   "cell_type": "markdown",
   "metadata": {},
   "source": [
    "# Performing the Analysis\n"
   ]
  },
  {
   "cell_type": "markdown",
   "metadata": {},
   "source": [
    "### PLINK\n"
   ]
  },
  {
   "cell_type": "markdown",
   "metadata": {},
   "source": [
    "There are a number of tools that can be used to perform a GWAS. PLINK is perhaps the most commonly used tool for performing a GWAS and is the tool that we are going to be using for this tutorial. For this tutorial, you will not need to download PLINK, however, if you want to do GWAS in the future, you will have to download PLINK to your computer. To download, you can follow the link here for instructions: http://pngu.mgh.harvard.edu/~purcell/plink/download.shtml\n"
   ]
  },
  {
   "cell_type": "markdown",
   "metadata": {},
   "source": [
    "### Formatting Files\n"
   ]
  },
  {
   "cell_type": "markdown",
   "metadata": {},
   "source": [
    "When performing a GWAS with PLINK, the files containing the data must be in PED and MAP formats. \n"
   ]
  },
  {
   "cell_type": "markdown",
   "metadata": {},
   "source": [
    "#### PED Format\n"
   ]
  },
  {
   "cell_type": "markdown",
   "metadata": {},
   "source": [
    "The fields in a PED file are:\n",
    "\n",
    "| Column #  | Description |\n",
    "| --------- | ------------ |\n",
    "|   1       | Family ID number (Omitted in our tutorial example) |\n",
    "|   2       | Sample ID number |\n",
    "|   3       | Paternal ID number |\n",
    "|   4       | Maternal ID number |\n",
    "|   5       | Sex (1 = Male, 2 = Female, any other number = unknown) |\n",
    "|   6       | Phenotype (1 = Unaffected with the disease, 2 = Affected with the disease, 0 = Disease status unknown, Any other number = Values for quantitative trait analysis) |\n",
    "|   7       | The remaining columns list the participant’s genotype information. A 0 indicates that nucleotide at the particular base pair is unknown |"
   ]
  },
  {
   "cell_type": "markdown",
   "metadata": {},
   "source": [
    "The following file is the hapmap1.ped file from the data that we are using for this tutorial. Notice that the ‘Family ID’ column was not used for this dataset. If you open the hapmap1.ped file in Vim, the file will likely look slightly different unless you have turned off the automatic line-wrapping setting that Vim has, however, the information in the file is the same. \n"
   ]
  },
  {
   "cell_type": "markdown",
   "metadata": {},
   "source": [
    "###### Picture goes here\n"
   ]
  },
  {
   "cell_type": "code",
   "execution_count": null,
   "metadata": {
    "collapsed": true
   },
   "outputs": [],
   "source": [
    "#### MAP Format\n"
   ]
  }
 ],
 "metadata": {
  "kernelspec": {
   "display_name": "Python 3",
   "language": "python",
   "name": "python3"
  },
  "language_info": {
   "codemirror_mode": {
    "name": "ipython",
    "version": 3
   },
   "file_extension": ".py",
   "mimetype": "text/x-python",
   "name": "python",
   "nbconvert_exporter": "python",
   "pygments_lexer": "ipython3",
   "version": "3.4.3"
  }
 },
 "nbformat": 4,
 "nbformat_minor": 0
}
